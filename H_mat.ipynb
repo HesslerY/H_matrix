{
 "cells": [
  {
   "cell_type": "code",
   "execution_count": 1,
   "metadata": {},
   "outputs": [],
   "source": [
    "import numpy as np\n",
    "import matplotlib.pyplot as plt\n",
    "from importlib import reload\n",
    "import time\n",
    "%matplotlib inline\n",
    "\n",
    "import H_mat"
   ]
  },
  {
   "cell_type": "markdown",
   "metadata": {},
   "source": [
    "# Модуль H_mat"
   ]
  },
  {
   "cell_type": "markdown",
   "metadata": {},
   "source": [
    "Модуль H_mat (код в файле H_mat.py) содержит класс H_matrix для работы с Н-матрицами (блочно-скелетонным разложением матриц). В формате H_matrix реализованы сложение и умножение матриц, построение обратной матрицы и LU разложение."
   ]
  },
  {
   "cell_type": "markdown",
   "metadata": {},
   "source": [
    "Н-матрицы имеют иерархическую структуру. Матрица М разбита на четыре блока $M_{11}$, $M_{12}$, $M_{21}$, $M_{22}$ следующим образом: "
   ]
  },
  {
   "cell_type": "markdown",
   "metadata": {},
   "source": [
    "$$\n",
    "|M_{11} M_{12}|\n",
    "$$\n",
    "$$\n",
    "|M_{21} M_{22}|    \n",
    "$$"
   ]
  },
  {
   "cell_type": "markdown",
   "metadata": {},
   "source": [
    "Блоки $M_{ij}$, имеющие ранг r, меньший заданного r_max, хранятся в виде факторов $a \\in R^{n \\times r}$ и $b \\in R^{r \\times m}$, $M_{ij} = a b$. Блоки, не имеющие достаточно малого ранга, разбиваются на подблоки в иерархической манере, и малоранговость проверяется для подблоков. Блоки размера, меньшего 2 * r_max, хранятся в виде плотной матрицы."
   ]
  },
  {
   "cell_type": "markdown",
   "metadata": {},
   "source": [
    "## Тестовая задача"
   ]
  },
  {
   "cell_type": "markdown",
   "metadata": {},
   "source": [
    "Для того, чтобы продемонстрировать работу модуля, рассмотрим тестовую одномерную задачу с логарифмическим ядром. На отрезке [0,1] равномерно расположено N зарядов с координатами $x_i$, воздействующими друг на друга с силой, пропорциональной логарифму растояния. Суммарные силы, действующие на заряды, $b_i$ известны. Необходимо найти массы зарядов $m_i$, на которые можно составить следующее уравнение:\n"
   ]
  },
  {
   "cell_type": "markdown",
   "metadata": {},
   "source": [
    "$$\n",
    "b_i = \\Sigma_{j=1}^N m_i log(|x_i - x_j|)\n",
    "$$"
   ]
  },
  {
   "cell_type": "markdown",
   "metadata": {},
   "source": [
    "Матрица $M_{i,j} = log(|x_i - x_j|)$ имеет блочно-малоранговую структуру. Ее генерирует функция gen_matrix(n), описанная ниже. "
   ]
  },
  {
   "cell_type": "code",
   "execution_count": 2,
   "metadata": {},
   "outputs": [],
   "source": [
    "def kernel(x, y):\n",
    "    return np.log(np.abs(x - y))"
   ]
  },
  {
   "cell_type": "code",
   "execution_count": 3,
   "metadata": {},
   "outputs": [],
   "source": [
    "def gen_matrix(n):\n",
    "    xs = np.linspace(0,1,n)\n",
    "    M = np.zeros((n, n))\n",
    "    for i in range(n):\n",
    "        for j in range(n):\n",
    "            if i != j:\n",
    "                M[i, j] = kernel(xs[i], xs[j]) \n",
    "            else:\n",
    "                M[i, j] = 0\n",
    "    return M"
   ]
  },
  {
   "cell_type": "markdown",
   "metadata": {},
   "source": [
    "Сгенерируем и визуализируем матрицу M для N = 500. "
   ]
  },
  {
   "cell_type": "code",
   "execution_count": 4,
   "metadata": {},
   "outputs": [],
   "source": [
    "M = gen_matrix(500)  "
   ]
  },
  {
   "cell_type": "code",
   "execution_count": 5,
   "metadata": {},
   "outputs": [
    {
     "data": {
      "text/plain": [
       "<matplotlib.image.AxesImage at 0x6159dc290>"
      ]
     },
     "execution_count": 5,
     "metadata": {},
     "output_type": "execute_result"
    },
    {
     "data": {
      "image/png": "[encoded data removed]",
      "text/plain": [
       "<Figure size 432x288 with 1 Axes>"
      ]
     },
     "metadata": {
      "needs_background": "light"
     },
     "output_type": "display_data"
    }
   ],
   "source": [
    "plt.imshow(M)"
   ]
  },
  {
   "cell_type": "markdown",
   "metadata": {},
   "source": [
    "Наибольшие по модулю элементы сосредоточены вблизи диагонали, но на диагонали - нули. Эта матрица имеет Н-структуру. "
   ]
  },
  {
   "cell_type": "markdown",
   "metadata": {},
   "source": [
    "Функция H_mat.create(M, tol, rang) строит Н-матрицу по плотной матрице M. Проверка на малоранговость и разложение на факторы выполняются при помощи SVD. Зная ядро и сетку можно построить H-матрицу без построения плотной матрицы M, но в данном коде такая возможность не риализована. \n",
    "\n",
    "Параметры: ранг блока считается малым, если блок имеет не более 'rang' сингулярных чисел, превышающих 'tol'."
   ]
  },
  {
   "cell_type": "code",
   "execution_count": 6,
   "metadata": {},
   "outputs": [],
   "source": [
    "H = H_mat.create(M, 1e-6, 10)"
   ]
  },
  {
   "cell_type": "markdown",
   "metadata": {},
   "source": [
    "Функция H.show() позволяет визуализировать блочную структуру матрицы H"
   ]
  },
  {
   "cell_type": "code",
   "execution_count": 7,
   "metadata": {},
   "outputs": [
    {
     "data": {
      "text/plain": [
       "<matplotlib.image.AxesImage at 0x615fe6e90>"
      ]
     },
     "execution_count": 7,
     "metadata": {},
     "output_type": "execute_result"
    },
    {
     "data": {
      "image/png": "[encoded data removed]",
      "text/plain": [
       "<Figure size 576x576 with 1 Axes>"
      ]
     },
     "metadata": {
      "needs_background": "light"
     },
     "output_type": "display_data"
    }
   ],
   "source": [
    "plt.figure(figsize=(8,8))\n",
    "plt.imshow(H.show())"
   ]
  },
  {
   "cell_type": "markdown",
   "metadata": {},
   "source": [
    "Желтым обозначены границы блоков. Полностью зеленые блоки имеют плотную структуру. Другие блоки имеют малый ранг, причем ширина зеленой линии соответствует рангу матрицы. Плотные блоки сосредоточены на диагонали. Чем дальше от диагонали, тем ранг блогов ниже, что соответствует тому, что удаленные от диагонали блоки описывают взаимодействие далеко разнесенных групп точек."
   ]
  },
  {
   "cell_type": "markdown",
   "metadata": {},
   "source": [
    "## Сложение"
   ]
  },
  {
   "cell_type": "markdown",
   "metadata": {},
   "source": [
    "Для того, чтобы показать, что сложение работает, сложем матрицу Н с самой собой."
   ]
  },
  {
   "cell_type": "code",
   "execution_count": 8,
   "metadata": {},
   "outputs": [],
   "source": [
    "H_sum = H + H"
   ]
  },
  {
   "cell_type": "markdown",
   "metadata": {},
   "source": [
    "функция H_sum.mat() возвращает плотную матрицу. H_sum.mat() должны быть равна H.mat() + H.mat(). Для того, чтобы проверить это равенство, используем функцию np.linalg.norm, вычисляющую вторую норму. Относительная погрешность при сложении H-матриц имеет порядок 1e-16."
   ]
  },
  {
   "cell_type": "code",
   "execution_count": 9,
   "metadata": {},
   "outputs": [
    {
     "data": {
      "text/plain": [
       "2.771195375023886e-16"
      ]
     },
     "execution_count": 9,
     "metadata": {},
     "output_type": "execute_result"
    }
   ],
   "source": [
    "np.linalg.norm(H_sum.mat() - H.mat() - H.mat()) / np.linalg.norm(H_sum.mat())"
   ]
  },
  {
   "cell_type": "markdown",
   "metadata": {},
   "source": [
    "Матрица Н_sum имеет такую же блочную структуру, как и матрица Н, что видно на следующем графике"
   ]
  },
  {
   "cell_type": "code",
   "execution_count": 10,
   "metadata": {},
   "outputs": [
    {
     "data": {
      "text/plain": [
       "<matplotlib.image.AxesImage at 0x6180c3150>"
      ]
     },
     "execution_count": 10,
     "metadata": {},
     "output_type": "execute_result"
    },
    {
     "data": {
      "image/png": "[encoded data removed]",
      "text/plain": [
       "<Figure size 576x576 with 1 Axes>"
      ]
     },
     "metadata": {
      "needs_background": "light"
     },
     "output_type": "display_data"
    }
   ],
   "source": [
    "plt.figure(figsize=(8,8))\n",
    "plt.imshow(H_sum.show())"
   ]
  },
  {
   "cell_type": "markdown",
   "metadata": {},
   "source": [
    "## Умножение"
   ]
  },
  {
   "cell_type": "markdown",
   "metadata": {},
   "source": [
    "Для того, чтобы показать, что умножение работает, посчитаем матрицу H_mul = H * H"
   ]
  },
  {
   "cell_type": "code",
   "execution_count": 11,
   "metadata": {},
   "outputs": [],
   "source": [
    "H_mul = H @ H"
   ]
  },
  {
   "cell_type": "markdown",
   "metadata": {},
   "source": [
    "Относительная ошибка умножения, вычисленая ниже, и имеет порядок 1e-15"
   ]
  },
  {
   "cell_type": "code",
   "execution_count": 12,
   "metadata": {},
   "outputs": [
    {
     "data": {
      "text/plain": [
       "4.18459658695082e-15"
      ]
     },
     "execution_count": 12,
     "metadata": {},
     "output_type": "execute_result"
    }
   ],
   "source": [
    "np.linalg.norm(H_mul.mat() - H.mat() @ H.mat()) / np.linalg.norm(H_mul.mat())"
   ]
  },
  {
   "cell_type": "markdown",
   "metadata": {},
   "source": [
    "Блочная структура матрицы H_mul приведена ниже. Она имеет такую же блочную структуру, как и матрица Н."
   ]
  },
  {
   "cell_type": "code",
   "execution_count": 13,
   "metadata": {},
   "outputs": [
    {
     "data": {
      "text/plain": [
       "<matplotlib.image.AxesImage at 0x61965a250>"
      ]
     },
     "execution_count": 13,
     "metadata": {},
     "output_type": "execute_result"
    },
    {
     "data": {
      "image/png": "[encoded data removed]",
      "text/plain": [
       "<Figure size 576x576 with 1 Axes>"
      ]
     },
     "metadata": {
      "needs_background": "light"
     },
     "output_type": "display_data"
    }
   ],
   "source": [
    "plt.figure(figsize=(8,8))\n",
    "plt.imshow(H_mul.show())"
   ]
  },
  {
   "cell_type": "markdown",
   "metadata": {},
   "source": [
    "## Обращение матриц"
   ]
  },
  {
   "cell_type": "markdown",
   "metadata": {},
   "source": [
    "Вычислим матрицу H_inv, обратную к матрице H"
   ]
  },
  {
   "cell_type": "code",
   "execution_count": 14,
   "metadata": {},
   "outputs": [],
   "source": [
    "H_inv = H.inv()"
   ]
  },
  {
   "cell_type": "markdown",
   "metadata": {},
   "source": [
    "Относительная погрешность вычисления обратной матрицы имеет порядок 1e-10. Для обращения плотной матрицы использована функция np.linalg.inv()"
   ]
  },
  {
   "cell_type": "code",
   "execution_count": 15,
   "metadata": {},
   "outputs": [
    {
     "data": {
      "text/plain": [
       "2.9021630494523856e-10"
      ]
     },
     "execution_count": 15,
     "metadata": {},
     "output_type": "execute_result"
    }
   ],
   "source": [
    "np.linalg.norm(np.linalg.inv(H.mat()) - H_inv.mat()) / np.linalg.norm(H.mat())"
   ]
  },
  {
   "cell_type": "markdown",
   "metadata": {},
   "source": [
    "Обратная матрица имеет ту же блочную структуру, что и матрица H."
   ]
  },
  {
   "cell_type": "code",
   "execution_count": 16,
   "metadata": {},
   "outputs": [
    {
     "data": {
      "text/plain": [
       "<matplotlib.image.AxesImage at 0x6184c30d0>"
      ]
     },
     "execution_count": 16,
     "metadata": {},
     "output_type": "execute_result"
    },
    {
     "data": {
      "image/png": "[encoded data removed]",
      "text/plain": [
       "<Figure size 576x576 with 1 Axes>"
      ]
     },
     "metadata": {
      "needs_background": "light"
     },
     "output_type": "display_data"
    }
   ],
   "source": [
    "plt.figure(figsize=(8,8))\n",
    "plt.imshow(H_inv.show())"
   ]
  },
  {
   "cell_type": "markdown",
   "metadata": {},
   "source": [
    "Зная обратную матрицу решим систему Hx = b. Случайный вектор b сгенерируем функцией np.rand.random(N)"
   ]
  },
  {
   "cell_type": "code",
   "execution_count": 17,
   "metadata": {},
   "outputs": [],
   "source": [
    "b = np.random.rand(500)"
   ]
  },
  {
   "cell_type": "markdown",
   "metadata": {},
   "source": [
    "Решим систему"
   ]
  },
  {
   "cell_type": "code",
   "execution_count": 18,
   "metadata": {},
   "outputs": [],
   "source": [
    "x = H_inv @ b"
   ]
  },
  {
   "cell_type": "markdown",
   "metadata": {},
   "source": [
    "Равенство Hx = b выполняется с относительной погрешностью 1e-8"
   ]
  },
  {
   "cell_type": "code",
   "execution_count": 19,
   "metadata": {},
   "outputs": [
    {
     "data": {
      "text/plain": [
       "2.16155775140989e-08"
      ]
     },
     "execution_count": 19,
     "metadata": {},
     "output_type": "execute_result"
    }
   ],
   "source": [
    "np.linalg.norm(H.mat() @ x - b) / np.linalg.norm(b)"
   ]
  },
  {
   "cell_type": "markdown",
   "metadata": {},
   "source": [
    "## LU факторизация"
   ]
  },
  {
   "cell_type": "markdown",
   "metadata": {},
   "source": [
    "Проверим работоспособность LU факторизации, которую строит функция H.lu()"
   ]
  },
  {
   "cell_type": "code",
   "execution_count": 23,
   "metadata": {},
   "outputs": [],
   "source": [
    "L, U = H.lu()"
   ]
  },
  {
   "cell_type": "markdown",
   "metadata": {},
   "source": [
    "Ниже изображена блочная структура факторов L и U. Это нижняя и верхняя треугольные матрицы, имеющие такую же блочную структуру, как матрица H."
   ]
  },
  {
   "cell_type": "code",
   "execution_count": 24,
   "metadata": {},
   "outputs": [
    {
     "data": {
      "text/plain": [
       "Text(0.5, 1.0, 'U factor')"
      ]
     },
     "execution_count": 24,
     "metadata": {},
     "output_type": "execute_result"
    },
    {
     "data": {
      "image/png": "[encoded data removed]",
      "text/plain": [
       "<Figure size 1008x1008 with 2 Axes>"
      ]
     },
     "metadata": {
      "needs_background": "light"
     },
     "output_type": "display_data"
    }
   ],
   "source": [
    "plt.figure(figsize=(14,14))\n",
    "plt.subplot(1,2,1)\n",
    "plt.imshow(L.show())\n",
    "plt.title('L factor', fontsize=16)\n",
    "\n",
    "plt.subplot(1,2,2)\n",
    "plt.imshow(U.show())\n",
    "plt.title('U factor', fontsize=16)"
   ]
  },
  {
   "cell_type": "markdown",
   "metadata": {},
   "source": [
    "Равенство LU = H выполняется с относительной точностью 1e-9."
   ]
  },
  {
   "cell_type": "code",
   "execution_count": 25,
   "metadata": {},
   "outputs": [
    {
     "data": {
      "text/plain": [
       "5.398435920511702e-09"
      ]
     },
     "execution_count": 25,
     "metadata": {},
     "output_type": "execute_result"
    }
   ],
   "source": [
    "np.abs(L.mat() @ U.mat() - H.mat()).max()"
   ]
  },
  {
   "cell_type": "markdown",
   "metadata": {},
   "source": [
    "Зная L и U, найдем решение системы Hx = b, используя функцию H_mat.lu_solve(L, U, b)"
   ]
  },
  {
   "cell_type": "code",
   "execution_count": 26,
   "metadata": {},
   "outputs": [],
   "source": [
    "x = H_mat.lu_solve(L, U, b)"
   ]
  },
  {
   "cell_type": "markdown",
   "metadata": {},
   "source": [
    "Вектор x удовлетворяет уравнению Hx = b с относительной погрешностью 1e-8"
   ]
  },
  {
   "cell_type": "code",
   "execution_count": 27,
   "metadata": {},
   "outputs": [
    {
     "data": {
      "text/plain": [
       "8.583530635037756e-09"
      ]
     },
     "execution_count": 27,
     "metadata": {},
     "output_type": "execute_result"
    }
   ],
   "source": [
    "np.linalg.norm(H.mat() @ x - b)"
   ]
  },
  {
   "cell_type": "markdown",
   "metadata": {},
   "source": [
    "## Асимптотическая сложность реализованных методов"
   ]
  },
  {
   "cell_type": "markdown",
   "metadata": {},
   "source": [
    "Для того, чтобы оценить сложность реализованных методов, построим серию матриц со значением n = [100, 200, 400, 800, 1600, 3200]. Матрицы сохраняем в списке h_mat."
   ]
  },
  {
   "cell_type": "code",
   "execution_count": 208,
   "metadata": {},
   "outputs": [],
   "source": [
    "ns = [100, 200, 400, 800, 1600, 3200]\n",
    "h_mat = []\n",
    "\n",
    "for n in ns:\n",
    "    h1 = H_mat.create(gen_matrix(n), 1e-6, 10)\n",
    "    h_mat.append(h1)"
   ]
  },
  {
   "cell_type": "markdown",
   "metadata": {},
   "source": [
    "## Память"
   ]
  },
  {
   "cell_type": "markdown",
   "metadata": {},
   "source": [
    "Оценим необходимую для хранения Н-матрицы память. Функция H.mem() возвращает число переменных типа double, хранящихся на нижних уровнях матрицы."
   ]
  },
  {
   "cell_type": "code",
   "execution_count": 254,
   "metadata": {},
   "outputs": [],
   "source": [
    "memory = []\n",
    "for h1 in h_mat:\n",
    "    memory.append(h1.mem())"
   ]
  },
  {
   "cell_type": "markdown",
   "metadata": {},
   "source": [
    "Из приведенного ниже графика можно видеть, что объем памяти (синяя жирная линия), необходимая для хранения Н-матрицы, растет с ростом n чуть быстрее, чем линейно (линеяная зависимсоть - черная сплощная линии)"
   ]
  },
  {
   "cell_type": "code",
   "execution_count": 256,
   "metadata": {},
   "outputs": [
    {
     "data": {
      "text/plain": [
       "Text(0.5, 0, 'n')"
      ]
     },
     "execution_count": 256,
     "metadata": {},
     "output_type": "execute_result"
    },
    {
     "data": {
      "image/png": "[encoded data removed]",
      "text/plain": [
       "<Figure size 432x288 with 1 Axes>"
      ]
     },
     "metadata": {
      "needs_background": "light"
     },
     "output_type": "display_data"
    }
   ],
   "source": [
    "plt.loglog(ns, memory, label=\"memory\", lw=4)\n",
    "plt.plot(ns, [n/1.5e-2 for n in ns], 'k-', label=\"n^1\")\n",
    "plt.plot(ns, [n**2/1.5e0 for n in ns], 'k--',label=\"n^2\")\n",
    "plt.plot(ns, [n**3/1.5e2 for n in ns], 'k:',label=\"n^3\")\n",
    "#plt.plot(ns, [n**3 for n in ns], label=\"n^3\")\n",
    "plt.legend()\n",
    "plt.xlabel(\"n\", fontsize=16)"
   ]
  },
  {
   "cell_type": "markdown",
   "metadata": {},
   "source": [
    "## Сложность сложения"
   ]
  },
  {
   "cell_type": "code",
   "execution_count": 257,
   "metadata": {},
   "outputs": [],
   "source": [
    "sum_time = []\n",
    "for h1 in h_mat:    \n",
    "    m = 5\n",
    "    time1 = time.process_time()\n",
    "    for i in range(m):\n",
    "        h0 = h1 + h1\n",
    "    time2 = time.process_time()\n",
    "    \n",
    "    dtime = (time2 - time1) / m\n",
    "    sum_time.append(dtime)"
   ]
  },
  {
   "cell_type": "markdown",
   "metadata": {},
   "source": [
    "На графике ниже приведено время, необходимое для выполнения сложения (жирная синяя линия). Оно растёт с ростом n линейно. Вероятно, чуть быстрее, чем линейно, так как необходимая для хранения матриц память растет чуть быстрее, чем линейно, как показано выше."
   ]
  },
  {
   "cell_type": "code",
   "execution_count": 65,
   "metadata": {},
   "outputs": [
    {
     "data": {
      "text/plain": [
       "Text(0.5, 0, 'n')"
      ]
     },
     "execution_count": 65,
     "metadata": {},
     "output_type": "execute_result"
    },
    {
     "data": {
      "image/png": "[encoded data removed]",
      "text/plain": [
       "<Figure size 432x288 with 1 Axes>"
      ]
     },
     "metadata": {
      "needs_background": "light"
     },
     "output_type": "display_data"
    }
   ],
   "source": [
    "plt.loglog(ns, sum_time, label=\"sum time\", lw=4)\n",
    "plt.plot(ns, [n/1.2e4 for n in ns], 'k-', label=\"n^1\")\n",
    "plt.plot(ns, [n**2/1.2e6 for n in ns], 'k--',label=\"n^2\")\n",
    "plt.plot(ns, [n**3/1.2e8 for n in ns], 'k:',label=\"n^3\")\n",
    "#plt.plot(ns, [n**3 for n in ns], label=\"n^3\")\n",
    "plt.legend()\n",
    "plt.xlabel(\"n\", fontsize=16)"
   ]
  },
  {
   "cell_type": "markdown",
   "metadata": {},
   "source": [
    "## Сложность умножение"
   ]
  },
  {
   "cell_type": "code",
   "execution_count": 67,
   "metadata": {},
   "outputs": [],
   "source": [
    "mul_time = []\n",
    "for h1 in h_mat:\n",
    "    m = 1\n",
    "    time1 = time.process_time()\n",
    "    for i in range(m):\n",
    "        h0 = h1 @ h1\n",
    "    time2 = time.process_time()\n",
    "    \n",
    "    dtime = (time2 - time1) / m\n",
    "    mul_time.append(dtime)"
   ]
  },
  {
   "cell_type": "markdown",
   "metadata": {},
   "source": [
    "Время умножения матриц связано с n квадратично (n^2 -- прерывистая линия)"
   ]
  },
  {
   "cell_type": "code",
   "execution_count": 71,
   "metadata": {},
   "outputs": [
    {
     "data": {
      "text/plain": [
       "Text(0.5, 0, 'n')"
      ]
     },
     "execution_count": 71,
     "metadata": {},
     "output_type": "execute_result"
    },
    {
     "data": {
      "image/png": "[encoded data removed]",
      "text/plain": [
       "<Figure size 432x288 with 1 Axes>"
      ]
     },
     "metadata": {
      "needs_background": "light"
     },
     "output_type": "display_data"
    }
   ],
   "source": [
    "plt.loglog(ns, mul_time, label=\"multiplication time\", lw=4)\n",
    "plt.plot(ns, [n/0.7e3 for n in ns], 'k-', label=\"n^1\")\n",
    "plt.plot(ns, [n**2/0.7e5 for n in ns], 'k--',label=\"n^2\")\n",
    "plt.plot(ns, [n**3/0.7e7 for n in ns], 'k:',label=\"n^3\")\n",
    "#plt.plot(ns, [n**3 for n in ns], label=\"n^3\")\n",
    "plt.legend()\n",
    "plt.xlabel(\"n\", fontsize=16)"
   ]
  },
  {
   "cell_type": "markdown",
   "metadata": {},
   "source": [
    "## Сложность обращения"
   ]
  },
  {
   "cell_type": "code",
   "execution_count": 69,
   "metadata": {},
   "outputs": [],
   "source": [
    "inv_time = []\n",
    "for n, h1 in zip(ns, h_mat):\n",
    "    m = 1\n",
    "    time1 = time.process_time()\n",
    "    for i in range(m):\n",
    "        h0 = h1.inv()\n",
    "    time2 = time.process_time()\n",
    "    \n",
    "    dtime = (time2 - time1) / m\n",
    "    inv_time.append(dtime)"
   ]
  },
  {
   "cell_type": "markdown",
   "metadata": {},
   "source": [
    "Время обращения матриц также квадратично."
   ]
  },
  {
   "cell_type": "code",
   "execution_count": 70,
   "metadata": {},
   "outputs": [
    {
     "data": {
      "text/plain": [
       "Text(0.5, 0, 'n')"
      ]
     },
     "execution_count": 70,
     "metadata": {},
     "output_type": "execute_result"
    },
    {
     "data": {
      "image/png": "[encoded data removed]",
      "text/plain": [
       "<Figure size 432x288 with 1 Axes>"
      ]
     },
     "metadata": {
      "needs_background": "light"
     },
     "output_type": "display_data"
    }
   ],
   "source": [
    "plt.loglog(ns, inv_time, label=\"inversion time\", lw=4)\n",
    "plt.plot(ns, [n/0.7e3 for n in ns], 'k-', label=\"n^1\")\n",
    "plt.plot(ns, [n**2/0.7e5 for n in ns], 'k--',label=\"n^2\")\n",
    "plt.plot(ns, [n**3/0.7e7 for n in ns], 'k:',label=\"n^3\")\n",
    "#plt.plot(ns, [n**3 for n in ns], label=\"n^3\")\n",
    "plt.legend()\n",
    "plt.xlabel(\"n\", fontsize=16)"
   ]
  },
  {
   "cell_type": "markdown",
   "metadata": {},
   "source": [
    "## LU факторизация"
   ]
  },
  {
   "cell_type": "code",
   "execution_count": 218,
   "metadata": {},
   "outputs": [],
   "source": [
    "luf_time = []\n",
    "lus_time = []\n",
    "for n, h1 in zip(ns, h_mat):\n",
    "    \n",
    "    time1 = time.process_time()\n",
    "    L, U = h1.lu()\n",
    "    time2 = time.process_time()\n",
    "    \n",
    "    dtime = (time2 - time1)\n",
    "    luf_time.append(dtime)\n",
    "    \n",
    "    b = np.random.rand(n)\n",
    "    time1 = time.process_time()\n",
    "    x = H_mat.lu_solve(L, U, b)\n",
    "    time2 = time.process_time()\n",
    "    \n",
    "    dtime = (time2 - time1)\n",
    "    lus_time.append(dtime)"
   ]
  },
  {
   "cell_type": "markdown",
   "metadata": {},
   "source": [
    "На графике ниже синяя жирная линия показывается время, затраченное на факторизацию, жирная оранжевая линии -- время на решение факторизованной системы. Обе задачи имеют квадратичную сложность."
   ]
  },
  {
   "cell_type": "code",
   "execution_count": 258,
   "metadata": {},
   "outputs": [
    {
     "data": {
      "text/plain": [
       "Text(0.5, 0, 'n')"
      ]
     },
     "execution_count": 258,
     "metadata": {},
     "output_type": "execute_result"
    },
    {
     "data": {
      "image/png": "[encoded data removed]",
      "text/plain": [
       "<Figure size 432x288 with 1 Axes>"
      ]
     },
     "metadata": {
      "needs_background": "light"
     },
     "output_type": "display_data"
    }
   ],
   "source": [
    "plt.loglog(ns, luf_time, label=\"lu factorize time\", lw=4)\n",
    "plt.loglog(ns, lus_time, label=\"lu solve time\", lw=4)\n",
    "plt.plot(ns, [n/3e3 for n in ns], 'k-', label=\"n^1\")\n",
    "plt.plot(ns, [n**2/3e5 for n in ns], 'k--',label=\"n^2\")\n",
    "plt.plot(ns, [n**3/3e7 for n in ns], 'k:',label=\"n^3\")\n",
    "#plt.plot(ns, [n**3 for n in ns], label=\"n^3\")\n",
    "plt.legend()\n",
    "plt.xlabel(\"n\", fontsize=16)"
   ]
  },
  {
   "cell_type": "markdown",
   "metadata": {},
   "source": [
    "## Заключение"
   ]
  },
  {
   "cell_type": "markdown",
   "metadata": {},
   "source": [
    "На Python + numpy реализован наивный алгоритм для работы с Н-матрицами. Показано, что в Н-формате алгебраические операции, обращение и LU-факторизация матриц работает корректно. Показано, что сложение требует примерно O(n) времени; умножение, обращение и факторизация - O(n^2)."
   ]
  },
  {
   "cell_type": "markdown",
   "metadata": {},
   "source": [
    "Как можно ускорить этот код? \n",
    "\n",
    "- Найти и реализовать более совершенные алгоритмы для работы с Н-матрицами. \n",
    "- Найти и исключить лишние копирования. \n",
    "- Применить библиотеку, в которой основные операции для работы с многомерными массивами могут выполняться параллельно или на GPU. Сейчас мне кажется, что это может быть Pytorch или TensorFlow."
   ]
  },
  {
   "cell_type": "markdown",
   "metadata": {},
   "source": [
    "Можно переписать код на C++. Не уверен, что это позволит сильно ускорить код, так как основное время вычисления занимают операции с плотными матрицами, для выполнения которых numpy обращается к Lapack."
   ]
  }
 ],
 "metadata": {
  "kernelspec": {
   "display_name": "Python 3",
   "language": "python",
   "name": "python3"
  },
  "language_info": {
   "codemirror_mode": {
    "name": "ipython",
    "version": 3
   },
   "file_extension": ".py",
   "mimetype": "text/x-python",
   "name": "python",
   "nbconvert_exporter": "python",
   "pygments_lexer": "ipython3",
   "version": "3.7.6"
  }
 },
 "nbformat": 4,
 "nbformat_minor": 4
}
