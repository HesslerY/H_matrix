{
 "cells": [
  {
   "cell_type": "code",
   "execution_count": 13,
   "metadata": {},
   "outputs": [],
   "source": [
    "import numpy as np\n",
    "from scipy.sparse import linalg\n",
    "import matplotlib.pyplot as plt\n",
    "from importlib import reload\n",
    "import time\n",
    "%matplotlib inline\n",
    "\n",
    "import H_mat"
   ]
  },
  {
   "cell_type": "markdown",
   "metadata": {},
   "source": [
    "# Итерационный метод решения системы с Н-матрицей"
   ]
  },
  {
   "cell_type": "markdown",
   "metadata": {},
   "source": [
    "В файле [H_mat.ipynb](https://nbviewer.jupyter.org/github/pimanov/H_matrix/blob/master/H_mat.ipynb) (H_mat.pdf) были описаны прямые методы для решения линейной системы с Н-матрицей. Данный файл посвящен итерационным метода решения таких систем. Основная операция, необходимая для применения крыловских методов - умножение матрицы на вектор, которое может быть эффективно реализовано в Н-формате."
   ]
  },
  {
   "cell_type": "markdown",
   "metadata": {},
   "source": [
    "Будем решать систему Am = b c матрицей $A \\in R^{n \\times n}$, определенную следующим образом:"
   ]
  },
  {
   "cell_type": "markdown",
   "metadata": {},
   "source": [
    "$$\n",
    "A_{i,j,i \\ne j} = log(|x_i - x_j|), \n",
    "$$"
   ]
  },
  {
   "cell_type": "markdown",
   "metadata": {},
   "source": [
    "$$\n",
    "A_{i,i} = 100\n",
    "$$"
   ]
  },
  {
   "cell_type": "markdown",
   "metadata": {},
   "source": [
    "$$\n",
    "x_i = \\frac{i}{n}\n",
    "$$"
   ]
  },
  {
   "cell_type": "markdown",
   "metadata": {},
   "source": [
    "Единственное отличие матрицы A, определенной таким образом, от матрицы, определенной в файле H_mat.ipynb, состоит в том, что диагональные элементы равны 100, а не нулю. Я решил изменить диагональные элементы для того, чтобы итерационный метод лучше сходился. Наибольший по амплитуде внедиагональный элемент равен -108, так что значение диагональных элементов оказывается вполне соизмеримо со значениями других элементов в матрице."
   ]
  },
  {
   "cell_type": "markdown",
   "metadata": {},
   "source": [
    "Ниже еще раз определены функции для построения плотной матрицы для данной системы."
   ]
  },
  {
   "cell_type": "code",
   "execution_count": 439,
   "metadata": {},
   "outputs": [],
   "source": [
    "def kernel(x, y):\n",
    "    return np.log(np.abs(x - y))"
   ]
  },
  {
   "cell_type": "code",
   "execution_count": 441,
   "metadata": {},
   "outputs": [],
   "source": [
    "def gen_matrix(n):\n",
    "    xs = np.linspace(0, 1, n)\n",
    "    A = np.zeros((n, n))\n",
    "    for i in range(n):\n",
    "        for j in range(n):\n",
    "            if i != j:\n",
    "                A[i, j] = kernel(xs[i], xs[j]) \n",
    "            else:\n",
    "                A[i, j] = 100\n",
    "    return A"
   ]
  },
  {
   "cell_type": "markdown",
   "metadata": {},
   "source": [
    "## Сложность умножения матрицы на вектор"
   ]
  },
  {
   "cell_type": "markdown",
   "metadata": {},
   "source": [
    "Ниже приведено время, необходимое для выполнения умножения на вектор Н-матрицы и плотной матрицы. Для плотной матрицы умножение выполняется в модуле numpy (lapack). "
   ]
  },
  {
   "cell_type": "markdown",
   "metadata": {},
   "source": [
    "Построим серию матриц с n = [100, 200, 400, 800, 1600, 3200, 6400]"
   ]
  },
  {
   "cell_type": "code",
   "execution_count": 442,
   "metadata": {},
   "outputs": [],
   "source": [
    "ns = [100, 200, 400, 800, 1600, 3200, 6400]\n",
    "h_mat = []\n",
    "dens_mat = []\n",
    "\n",
    "for n in ns:\n",
    "    A = gen_matrix(n)\n",
    "    dens_mat.append(A)\n",
    "    H = H_mat.create(A, 1e-6, 10)\n",
    "    h_mat.append(H)"
   ]
  },
  {
   "cell_type": "markdown",
   "metadata": {},
   "source": [
    "Ниже определяется время, необходимое для умножения матрицы на вектор."
   ]
  },
  {
   "cell_type": "code",
   "execution_count": 179,
   "metadata": {},
   "outputs": [],
   "source": [
    "h_vmul_time = []\n",
    "\n",
    "for H, n in zip(h_mat, ns):\n",
    "    m = 100\n",
    "    x = np.random.rand(n)\n",
    "    \n",
    "    time1 = time.process_time()\n",
    "    for i in range(m):\n",
    "        b = H @ x\n",
    "    time2 = time.process_time()\n",
    "    \n",
    "    dtime = (time2 - time1) / m\n",
    "    h_vmul_time.append(dtime)"
   ]
  },
  {
   "cell_type": "code",
   "execution_count": 180,
   "metadata": {},
   "outputs": [],
   "source": [
    "dens_vmul_time = []\n",
    "\n",
    "for A in dens_mat:\n",
    "    m = 100\n",
    "    x = np.random.rand(m1.shape[1])\n",
    "    \n",
    "    time1 = time.process_time()\n",
    "    for i in range(m):\n",
    "        b = A @ x\n",
    "    time2 = time.process_time()\n",
    "    \n",
    "    dtime = (time2 - time1) / m\n",
    "    dens_vmul_time.append(dtime)"
   ]
  },
  {
   "cell_type": "markdown",
   "metadata": {},
   "source": [
    "Время выполнения matvec для Н-матрицы имеет линейную сложность (синяя линия), время matvec для плотной матрицы имеет квадратичную сложность (оранжевая линия). Несмотря на то, что сравнение проводится с высоко оптимизированной библиотекой Lapack, уже при n=1000 умножение в Н-формате оказывается быстрее умножения с плотной матрицей. Это, в частности, значит, что итерационные методы в Н-формате будут работать быстрее, чем с плотной матрицей."
   ]
  },
  {
   "cell_type": "code",
   "execution_count": 375,
   "metadata": {},
   "outputs": [
    {
     "data": {
      "text/plain": [
       "Text(0, 0.5, 'time (s)')"
      ]
     },
     "execution_count": 375,
     "metadata": {},
     "output_type": "execute_result"
    },
    {
     "data": {
      "image/png": "[encoded data removed]",
      "text/plain": [
       "<Figure size 432x288 with 1 Axes>"
      ]
     },
     "metadata": {
      "needs_background": "light"
     },
     "output_type": "display_data"
    }
   ],
   "source": [
    "plt.loglog(ns, h_vmul_time, label=\"H_mat matvec time\", lw=4)\n",
    "plt.loglog(ns, dens_vmul_time, label=\"Dense matvec time\", lw=4)\n",
    "plt.plot(ns, [n/1e6 for n in ns], 'k-', label=\"n^1\")\n",
    "plt.plot(ns, [n**2/1e9 for n in ns], 'k--',label=\"n^2\")\n",
    "plt.legend(fontsize=12)\n",
    "plt.xlabel(\"n\", fontsize=16)\n",
    "plt.ylabel(\"time (s)\", fontsize=16)"
   ]
  },
  {
   "cell_type": "markdown",
   "metadata": {},
   "source": [
    "## Итерационное решение системы с Н-матрицей"
   ]
  },
  {
   "cell_type": "markdown",
   "metadata": {},
   "source": [
    "Решим систему Am = b итерационным солвером gmres, реализованным в библиотеке scipy. Предобуславливатель на данном этапе не используется."
   ]
  },
  {
   "cell_type": "markdown",
   "metadata": {},
   "source": [
    "Построим плотную матрицу A, соответствующую ей Н-матрицу H и случайную правую часть b"
   ]
  },
  {
   "cell_type": "code",
   "execution_count": 416,
   "metadata": {},
   "outputs": [],
   "source": [
    "A = gen_matrix(3000)\n",
    "H = H_mat.create(A, 1e-6, 10)\n",
    "b = np.random.rand(3000)"
   ]
  },
  {
   "cell_type": "markdown",
   "metadata": {},
   "source": [
    "Ниже методом gmres решается система с плотной матрицей и определяется время решения. Оно составляется 0.68 секунды."
   ]
  },
  {
   "cell_type": "code",
   "execution_count": 432,
   "metadata": {},
   "outputs": [
    {
     "name": "stdout",
     "output_type": "stream",
     "text": [
      "running time in seconds =  0.6866730000001553\n"
     ]
    }
   ],
   "source": [
    "time1 = time.process_time()\n",
    "m, info = scipy.sparse.linalg.gmres(A, b, tol=1e-7, restart=100)\n",
    "time2 = time.process_time()\n",
    "\n",
    "dtime = time2 - time1\n",
    "print (\"running time in seconds = \", dtime)"
   ]
  },
  {
   "cell_type": "markdown",
   "metadata": {},
   "source": [
    "Как показывают следующие вычисления, решение было найдено с точностью 1е-6"
   ]
  },
  {
   "cell_type": "code",
   "execution_count": 433,
   "metadata": {},
   "outputs": [
    {
     "data": {
      "text/plain": [
       "1.5571690937644997e-06"
      ]
     },
     "execution_count": 433,
     "metadata": {},
     "output_type": "execute_result"
    }
   ],
   "source": [
    "np.linalg.norm(A @ m - b)"
   ]
  },
  {
   "cell_type": "markdown",
   "metadata": {},
   "source": [
    "Ниже определяется линейный оператор для вычисления произведения Н-матрицы и вектора, который будет передан в функцию gmres"
   ]
  },
  {
   "cell_type": "code",
   "execution_count": 421,
   "metadata": {},
   "outputs": [],
   "source": [
    "H_op = scipy.sparse.linalg.LinearOperator(shape=A.shape, matvec=lambda x: H.dot(x))"
   ]
  },
  {
   "cell_type": "markdown",
   "metadata": {},
   "source": [
    "Определив линейный оператор, применяем gmres для решения системы с Н-матрицей. Время решения составляется 0.37 секунды, что почти в два раза быстрее, чем при решении с плотной матрицей. "
   ]
  },
  {
   "cell_type": "code",
   "execution_count": 437,
   "metadata": {},
   "outputs": [
    {
     "name": "stdout",
     "output_type": "stream",
     "text": [
      "running time in seconds = 0.3677860000002511\n"
     ]
    }
   ],
   "source": [
    "time1 = time.process_time()\n",
    "m, info = scipy.sparse.linalg.gmres(H_op, b, tol=1e-7, restart=100)\n",
    "time2 = time.process_time()\n",
    "\n",
    "dtime = time2 - time1\n",
    "print (\"running time in seconds =\", dtime)"
   ]
  },
  {
   "cell_type": "markdown",
   "metadata": {},
   "source": [
    "Как показывает следующий расчет, как и в первом случае, решение найдено с точностью 1е-6."
   ]
  },
  {
   "cell_type": "code",
   "execution_count": 438,
   "metadata": {},
   "outputs": [
    {
     "data": {
      "text/plain": [
       "1.5571694319774287e-06"
      ]
     },
     "execution_count": 438,
     "metadata": {},
     "output_type": "execute_result"
    }
   ],
   "source": [
    "np.linalg.norm(H @ m - b)"
   ]
  },
  {
   "cell_type": "markdown",
   "metadata": {},
   "source": [
    "## Заключение"
   ]
  },
  {
   "cell_type": "markdown",
   "metadata": {},
   "source": [
    "Асимптотическая сложность умножения Н-матрицы на вектор ниже, чем сложность умножения плотной матрицы на вектор, и уже при n = 1000 уножение в Н-формате требует меньше времени. Это ведет к тому, что крыловские методы решения линейных систем эффективнее работают с Н-матрицами. Выше показано, что для системы с 3000 неизвестными gmres с Н-матрицей оказывается вдвое эффективнее, чем gmres с плотной матрицей."
   ]
  },
  {
   "cell_type": "markdown",
   "metadata": {},
   "source": [
    "В будущем я мог бы реализовать итерационный метод самостоятельно, но на это нужно немного больше времени. Эта работа сделана за день."
   ]
  }
 ],
 "metadata": {
  "kernelspec": {
   "display_name": "Python 3",
   "language": "python",
   "name": "python3"
  },
  "language_info": {
   "codemirror_mode": {
    "name": "ipython",
    "version": 3
   },
   "file_extension": ".py",
   "mimetype": "text/x-python",
   "name": "python",
   "nbconvert_exporter": "python",
   "pygments_lexer": "ipython3",
   "version": "3.7.6"
  }
 },
 "nbformat": 4,
 "nbformat_minor": 4
}
